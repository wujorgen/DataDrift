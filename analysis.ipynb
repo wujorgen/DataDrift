{
 "cells": [
  {
   "cell_type": "markdown",
   "metadata": {},
   "source": [
    "# DataDrift\n",
    "\n",
    "This notebook demos the webscraping and analysis abilities of DataDrift.\n",
    "This workflow is all internal to the Drift.py module\n",
    "DataDrift is a Python package that returns information about vehicle prices."
   ]
  },
  {
   "cell_type": "code",
   "execution_count": 3,
   "metadata": {},
   "outputs": [],
   "source": [
    "# IMPORT STATEMENTS\n",
    "from DataDrift.scrapers.carscom import scrape_carscom, scrape_worker #scrape_data_payload\n",
    "from DataDrift.scrapers.genurls import gen_carscom_urls #gen_cars_com_urls\n",
    "from DataDrift.stats.clean import calc_pct_deltas, sort_trims#, process_data_payload\n",
    "#from DataDrift.Drift import Drift\n",
    "import matplotlib.pyplot as plt\n",
    "import pandas as pd\n",
    "import numpy as np"
   ]
  },
  {
   "cell_type": "markdown",
   "metadata": {},
   "source": [
    "Generating Target URLS to scrape from"
   ]
  },
  {
   "cell_type": "code",
   "execution_count": 4,
   "metadata": {},
   "outputs": [
    {
     "data": {
      "text/plain": [
       "['https://www.cars.com/shopping/results/?stock_type=all&makes=acura&models=acura-integra&zip=15238&maximum_distance=200&page_size=20&clean_title=true&no_accidents=true&personal_use=true',\n",
       " 'https://www.cars.com/shopping/results/?stock_type=all&makes=acura&models=acura-integra&zip=47907&maximum_distance=200&page_size=20&clean_title=true&no_accidents=true&personal_use=true',\n",
       " 'https://www.cars.com/shopping/results/?stock_type=all&makes=acura&models=acura-integra&zip=78701&maximum_distance=200&page_size=20&clean_title=true&no_accidents=true&personal_use=true',\n",
       " 'https://www.cars.com/shopping/results/?stock_type=all&makes=acura&models=acura-integra&zip=95814&maximum_distance=200&page_size=20&clean_title=true&no_accidents=true&personal_use=true',\n",
       " 'https://www.cars.com/shopping/results/?stock_type=all&makes=acura&models=acura-integra&zip=14623&maximum_distance=200&page_size=20&clean_title=true&no_accidents=true&personal_use=true']"
      ]
     },
     "execution_count": 4,
     "metadata": {},
     "output_type": "execute_result"
    }
   ],
   "source": [
    "car_dict = {\n",
    "    #\"ford\": [\"mustang\", \"f_150\"],\n",
    "    #\"chevrolet\": [\"camaro\"],\n",
    "    #\"toyota\": [\"camry\", \"supra\", \"gr_supra\"],\n",
    "    #\"bmw\": [\"330\", \"z4\", \"430\", \"m340\", \"m440\",],\n",
    "    #\"audi\": [\"a4\", \"s4\", \"s3\", \"a5\", \"s5\"],\n",
    "    #\"audi\": [\"rs3\"]\n",
    "    #\"subaru\": [\"brz\"],\n",
    "    #\"acura\": [\"integra\"],\n",
    "    #\"lexus\": [\"rc_f\"],\n",
    "    #\"tesla\": [\"model_s\"],\n",
    "    #\"porsche\": [\"718_cayman\", \"718_boxster\"],\n",
    "    #\"acura\": [\"mdx\"],\n",
    "    \"acura\": [\"integra\"]\n",
    "    #\"infiniti\": [\"qx60\", \"qx80\"],\n",
    "    #\"kia\": [\"telluride\"],\n",
    "    #\"genesis\": [\"gv80\"],\n",
    "    #\"gmc\": [\"yukon\"],\n",
    "    #\"volvo\": [\"xc90\"],\n",
    "    #\"hyundai\": [\"palisade\"],\n",
    "    #\"honda\": [\"pilot\"],\n",
    "    #\"lexus\": [\"lx_600\"],\n",
    "    #\"lincoln\": [\"aviator\"],\n",
    "    #\"mercedes_benz\": [\"gle_350\"], # make alphabeticals lower case\n",
    "    #\"bmw\": [\"x3\", \"x5\"]\n",
    "}\n",
    "\n",
    "url_targets = gen_carscom_urls(input_dict=car_dict)\n",
    "url_targets\n"
   ]
  },
  {
   "cell_type": "code",
   "execution_count": null,
   "metadata": {},
   "outputs": [],
   "source": [
    "temp = scrape_carscom(url_targets)"
   ]
  },
  {
   "cell_type": "code",
   "execution_count": null,
   "metadata": {},
   "outputs": [],
   "source": [
    "scrape_worker(url_targets[0])"
   ]
  },
  {
   "cell_type": "markdown",
   "metadata": {},
   "source": [
    "Processing the scraped data"
   ]
  },
  {
   "cell_type": "code",
   "execution_count": 100,
   "metadata": {},
   "outputs": [],
   "source": [
    "columns = [\"make\", \"model\", \"model_year\", \"trim\", \"mileage\", \"price\", \"listing_id\", \"bodystyle\", ] \n",
    "\n",
    "df = pd.DataFrame(temp, columns=columns)"
   ]
  },
  {
   "cell_type": "code",
   "execution_count": 101,
   "metadata": {},
   "outputs": [
    {
     "name": "stdout",
     "output_type": "stream",
     "text": [
      "bmw_x3\n",
      "bmw_x5\n"
     ]
    }
   ],
   "source": [
    "scraped_results = {}\n",
    "cat_model_list = []\n",
    "for make in car_dict.keys():\n",
    "    for model in car_dict[make]:\n",
    "        filt = (df[\"make\"]==make) & (df[\"model\"]==model)\n",
    "        print(make+\"_\"+model)\n",
    "        scraped_results[make+\"_\"+model] = df[filt]\n"
   ]
  },
  {
   "cell_type": "code",
   "execution_count": 105,
   "metadata": {},
   "outputs": [
    {
     "name": "stdout",
     "output_type": "stream",
     "text": [
      "('4.6is', 1)\n",
      "('m50i', 16)\n",
      "('m60i', 5)\n",
      "('sdrive35i', 6)\n",
      "('sdrive40i', 18)\n",
      "('xdrive30i', 3)\n",
      "('xdrive35d', 3)\n",
      "('xdrive35i', 36)\n",
      "('xdrive35i_premium', 2)\n",
      "('xdrive40i', 96)\n",
      "('xdrive48i', 1)\n",
      "('xdrive50i', 11)\n",
      "('xdrive_35i_sport_activity', 2)\n"
     ]
    }
   ],
   "source": [
    "%%capture --no-stdout --no-display\n",
    "\n",
    "#m340 = scraped_results[\"bmw_m340\"]\n",
    "#m440 = scraped_results[\"bmw_m440\"]\n",
    "#a4 = scraped_results[\"audi_a4\"]\n",
    "#s3 = scraped_results[\"audi_s3\"]\n",
    "#camry = scraped_results[\"toyota_camry\"]\n",
    "#brzs = scraped_results[\"subaru_brz\"]\n",
    "#brzs.dropna(inplace=True)\n",
    "#rcfs = scraped_results[\"lexus_rc_f\"]\n",
    "#mustangs = scraped_results[\"ford_mustang\"]\n",
    "#models = scraped_results[\"tesla_model_s\"]\n",
    "#caymans = scraped_results[\"porsche_718_cayman\"]\n",
    "#boxsters = scraped_results[\"porsche_718_boxster\"]\n",
    "#camaros = scraped_results[\"chevrolet_camaro\"]\n",
    "\n",
    "mdxsasdf = scraped_results[\"bmw_x5\"]\n",
    "mdxs = mdxsasdf.dropna()\n",
    "\n",
    "#m440_mod = sort_trims(m440)\n",
    "#a4 = sort_trims(a4)\n",
    "#camry = sort_trims(camry,spec=\"se\")\n",
    "#mustangs = sort_trims(mustangs,spec=\"ecoboost\")\n",
    "trims, counts = np.unique(np.array(mdxs[\"trim\"]),return_counts=True)\n",
    "for e in zip(trims,counts):\n",
    "    print(e)\n",
    "\n",
    "#camaros_trimmed = sort_trims(camaros, spec=\"lt1\")\n",
    "\n",
    "#m340 = calc_pct_deltas(m340)\n",
    "#m440 = calc_pct_deltas(m440)\n",
    "#a4 = calc_pct_deltas(a4)\n",
    "#s3 = calc_pct_deltas(s3)\n",
    "#camry = calc_pct_deltas(camry)\n",
    "#brzs = calc_pct_deltas(brzs)\n",
    "#rcfs = calc_pct_deltas(rcfs)\n",
    "#mustangs = calc_pct_deltas(mustangs)\n",
    "#models = calc_pct_deltas(models)\n",
    "#caymans = calc_pct_deltas(caymans)\n",
    "#boxsters = calc_pct_deltas(boxsters)\n",
    "#camaros = calc_pct_deltas(camaros_trimmed)\n",
    "\n",
    "#boxsters.dropna(inplace=True)\n",
    "#caymans.dropna(inplace=True)"
   ]
  },
  {
   "cell_type": "code",
   "execution_count": 11,
   "metadata": {},
   "outputs": [],
   "source": [
    "#plt.figure(1)\n",
    "#plt.scatter(camry[\"year_delta\"], camry[\"price_pct\"])\n",
    "#plt.xlabel(\"years\")\n",
    "#plt.ylabel(\"pct depreciation\")\n",
    "#\n",
    "#plt.figure(2)\n",
    "#plt.scatter(camry[\"mileage\"].values.astype(float)/1000, camry[\"price_pct\"])\n",
    "#plt.xlabel(\"miles (1000s)\")\n",
    "#plt.ylabel(\"pct depreciation\")\n",
    "#\n",
    "#plt.figure(3)\n",
    "#ax = plt.axes(projection =\"3d\")\n",
    "#ax.scatter3D(camry[\"year_delta\"], camry[\"mileage\"].values.astype(float)/1000, camry[\"price_pct\"])\n",
    "\n"
   ]
  },
  {
   "cell_type": "code",
   "execution_count": 7,
   "metadata": {},
   "outputs": [],
   "source": [
    "from scipy.optimize import curve_fit\n",
    "import scipy.stats as stats"
   ]
  },
  {
   "cell_type": "code",
   "execution_count": 106,
   "metadata": {},
   "outputs": [],
   "source": [
    "def exp_decay(x,A,B,C):\n",
    "    \"\"\"Models exponential decay.\n",
    "\n",
    "    Args:\n",
    "        x: independant variable\n",
    "        A: A\n",
    "        B: B\n",
    "        C: C\n",
    "        \n",
    "    Returns:\n",
    "        dependant variable\n",
    "    \"\"\"\n",
    "    return A*np.exp(-B*x) - C\n",
    "\n",
    "y=mdxs[\"price\"]\n",
    "x=mdxs[\"mileage\"].values.astype(float)/1000\n",
    "\n",
    "popt, pcov = curve_fit(exp_decay,x,y,p0=[y.max(),1,1],)"
   ]
  },
  {
   "cell_type": "code",
   "execution_count": 107,
   "metadata": {},
   "outputs": [
    {
     "data": {
      "text/html": [
       "<div>\n",
       "<style scoped>\n",
       "    .dataframe tbody tr th:only-of-type {\n",
       "        vertical-align: middle;\n",
       "    }\n",
       "\n",
       "    .dataframe tbody tr th {\n",
       "        vertical-align: top;\n",
       "    }\n",
       "\n",
       "    .dataframe thead th {\n",
       "        text-align: right;\n",
       "    }\n",
       "</style>\n",
       "<table border=\"1\" class=\"dataframe\">\n",
       "  <thead>\n",
       "    <tr style=\"text-align: right;\">\n",
       "      <th></th>\n",
       "      <th>0</th>\n",
       "      <th>1</th>\n",
       "    </tr>\n",
       "  </thead>\n",
       "  <tbody>\n",
       "    <tr>\n",
       "      <th>19</th>\n",
       "      <td>0.193</td>\n",
       "      <td>76820.015415</td>\n",
       "    </tr>\n",
       "    <tr>\n",
       "      <th>20</th>\n",
       "      <td>0.354</td>\n",
       "      <td>76627.911574</td>\n",
       "    </tr>\n",
       "    <tr>\n",
       "      <th>15</th>\n",
       "      <td>0.478</td>\n",
       "      <td>76480.316207</td>\n",
       "    </tr>\n",
       "    <tr>\n",
       "      <th>170</th>\n",
       "      <td>1.130</td>\n",
       "      <td>75709.382317</td>\n",
       "    </tr>\n",
       "    <tr>\n",
       "      <th>108</th>\n",
       "      <td>1.439</td>\n",
       "      <td>75347.009900</td>\n",
       "    </tr>\n",
       "  </tbody>\n",
       "</table>\n",
       "</div>"
      ],
      "text/plain": [
       "         0             1\n",
       "19   0.193  76820.015415\n",
       "20   0.354  76627.911574\n",
       "15   0.478  76480.316207\n",
       "170  1.130  75709.382317\n",
       "108  1.439  75347.009900"
      ]
     },
     "execution_count": 107,
     "metadata": {},
     "output_type": "execute_result"
    },
    {
     "data": {
      "image/png": "[encoded data removed]",
      "text/plain": [
       "<Figure size 640x480 with 1 Axes>"
      ]
     },
     "metadata": {},
     "output_type": "display_data"
    }
   ],
   "source": [
    "plt.figure(2)\n",
    "plt.scatter(mdxs[\"mileage\"].values.astype(float)/1000, mdxs[\"price\"])\n",
    "plt.xlabel(\"miles (1000s)\")\n",
    "plt.ylabel(\"pct depreciation\")\n",
    "\n",
    "work_price = exp_decay(mdxs[\"mileage\"].values.astype(float)/1000, popt[0], popt[1], popt[2])\n",
    "\n",
    "fuckyou = pd.DataFrame([mdxs[\"mileage\"].values.astype(float)/1000, work_price])\n",
    "fuckyou = fuckyou.T\n",
    "fuckyou.sort_values(0,inplace=True)\n",
    "\n",
    "plt.plot(fuckyou[0], fuckyou[1], c=\"red\")\n",
    "plt.grid()\n",
    "\n",
    "fuckyou.head()"
   ]
  }
 ],
 "metadata": {
  "kernelspec": {
   "display_name": "venv",
   "language": "python",
   "name": "python3"
  },
  "language_info": {
   "codemirror_mode": {
    "name": "ipython",
    "version": 3
   },
   "file_extension": ".py",
   "mimetype": "text/x-python",
   "name": "python",
   "nbconvert_exporter": "python",
   "pygments_lexer": "ipython3",
   "version": "3.12.9"
  },
  "orig_nbformat": 4
 },
 "nbformat": 4,
 "nbformat_minor": 2
}
